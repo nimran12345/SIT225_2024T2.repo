{
 "cells": [
  {
   "cell_type": "code",
   "execution_count": null,
   "id": "7e87648c-4eda-45ec-84d0-518c6f2b9448",
   "metadata": {},
   "outputs": [],
   "source": [
    "import sys\n",
    "import time\n",
    "import traceback\n",
    "import os\n",
    "from arduino_iot_cloud import ArduinoCloudClient\n",
    "import csv \n",
    "import time\n",
    "import plotly.io as pio\n",
    "import plotly.express as px\n",
    "import pandas as pd\n",
    "import seaborn as sns\n",
    "import dash\n",
    "from dash import dcc, html\n",
    "from dash.dependencies import Input, Output\n",
    "import plotly.graph_objs as go\n",
    "import pandas as pd\n",
    "import matplotlib.pyplot as plt"
   ]
  },
  {
   "cell_type": "code",
   "execution_count": null,
   "id": "14b04c31-fc66-48fd-949e-41cd5b5d9063",
   "metadata": {},
   "outputs": [],
   "source": [
    "\n",
    "# Load the data\n",
    "accelerometer_x = pd.read_csv('Accelerometer_X.csv')\n",
    "accelerometer_y = pd.read_csv('Accelerometer_Y.csv')\n",
    "accelerometer_z = pd.read_csv('Accelerometer_Z.csv')\n",
    "\n",
    "accelerometer_x.time = pd.to_datetime(accelerometer_x.time)\n",
    "accelerometer_y.time = pd.to_datetime(accelerometer_y.time)\n",
    "accelerometer_z.time = pd.to_datetime(accelerometer_z.time)\n",
    "\n",
    "# Plotting accelerometer_x\n",
    "plt.figure(figsize=(12, 8))\n",
    "\n",
    "plt.subplot(2, 2, 1)\n",
    "plt.plot(accelerometer_x['time'], accelerometer_x['value'])\n",
    "plt.title('Accelerometer X')\n",
    "\n",
    "# Plotting accelerometer_y\n",
    "plt.subplot(2, 2, 2)\n",
    "plt.plot(accelerometer_y['time'], accelerometer_y['value'])\n",
    "plt.title('Accelerometer Y')\n",
    "\n",
    "# Plotting accelerometer_z\n",
    "plt.subplot(2, 2, 3)\n",
    "plt.plot(accelerometer_z['time'], accelerometer_z['value'])\n",
    "plt.title('Accelerometer Z')\n",
    "\n",
    "# Plotting all three accelerometers\n",
    "plt.subplot(2, 2, 4)\n",
    "plt.plot(accelerometer_x['time'], accelerometer_x['value'], label='X')\n",
    "plt.plot(accelerometer_y['time'], accelerometer_y['value'], label='Y')\n",
    "plt.plot(accelerometer_z['time'], accelerometer_z['value'], label='Z')\n",
    "plt.title('Accelerometers X, Y, and Z')\n",
    "\n",
    "\n",
    "for i in range(3):\n",
    "    plt.subplot(2,2,i+1)\n",
    "    plt.xlabel('Time')\n",
    "    plt.ylabel('Value')\n",
    "\n",
    "plt.tight_layout()\n",
    "plt.show()\n"
   ]
  },
  {
   "cell_type": "code",
   "execution_count": null,
   "id": "cdbd48c7-7cf0-419d-9957-1e49fce98ebd",
   "metadata": {},
   "outputs": [],
   "source": [
    "### Receiving the data from Python"
   ]
  },
  {
   "cell_type": "code",
   "execution_count": 12,
   "id": "0728d7d7-959d-4233-93f7-2a4f3c431b4b",
   "metadata": {},
   "outputs": [
    {
     "ename": "NameError",
     "evalue": "name 'dash' is not defined",
     "output_type": "error",
     "traceback": [
      "\u001b[31m---------------------------------------------------------------------------\u001b[39m",
      "\u001b[31mNameError\u001b[39m                                 Traceback (most recent call last)",
      "\u001b[36mCell\u001b[39m\u001b[36m \u001b[39m\u001b[32mIn[12]\u001b[39m\u001b[32m, line 2\u001b[39m\n\u001b[32m      1\u001b[39m \u001b[38;5;66;03m# Initialize Dash app\u001b[39;00m\n\u001b[32m----> \u001b[39m\u001b[32m2\u001b[39m app = \u001b[43mdash\u001b[49m.Dash(\u001b[34m__name__\u001b[39m)\n\u001b[32m      4\u001b[39m app.layout = html.Div([\n\u001b[32m      5\u001b[39m     dcc.Graph(\u001b[38;5;28mid\u001b[39m=\u001b[33m'\u001b[39m\u001b[33mlive-update-graph\u001b[39m\u001b[33m'\u001b[39m),\n\u001b[32m      6\u001b[39m     dcc.Interval(\u001b[38;5;28mid\u001b[39m=\u001b[33m'\u001b[39m\u001b[33minterval-component\u001b[39m\u001b[33m'\u001b[39m, interval=\u001b[32m1000\u001b[39m, n_intervals=\u001b[32m0\u001b[39m)  \u001b[38;5;66;03m# Update every second  \u001b[39;00m\n\u001b[32m      7\u001b[39m ])\n\u001b[32m      9\u001b[39m \u001b[38;5;129m@app\u001b[39m.callback(\n\u001b[32m     10\u001b[39m     Output(\u001b[33m'\u001b[39m\u001b[33mlive-update-graph\u001b[39m\u001b[33m'\u001b[39m, \u001b[33m'\u001b[39m\u001b[33mfigure\u001b[39m\u001b[33m'\u001b[39m),\n\u001b[32m     11\u001b[39m     Input(\u001b[33m'\u001b[39m\u001b[33minterval-component\u001b[39m\u001b[33m'\u001b[39m, \u001b[33m'\u001b[39m\u001b[33mn_intervals\u001b[39m\u001b[33m'\u001b[39m)\n\u001b[32m     12\u001b[39m )\n\u001b[32m     13\u001b[39m \n\u001b[32m     14\u001b[39m \u001b[38;5;28;01mdef\u001b[39;00m\u001b[38;5;250m \u001b[39m\u001b[34mupdate_graph\u001b[39m(n_intervals):\n",
      "\u001b[31mNameError\u001b[39m: name 'dash' is not defined"
     ]
    }
   ],
   "source": [
    "\n",
    "# Initialize Dash app\n",
    "app = dash.Dash(__name__)\n",
    "\n",
    "app.layout = html.Div([\n",
    "    dcc.Graph(id='live-update-graph'),\n",
    "    dcc.Interval(id='interval-component', interval=1000, n_intervals=0)  # Update every second  \n",
    "])\n",
    "\n",
    "@app.callback(\n",
    "    Output('live-update-graph', 'figure'),\n",
    "    Input('interval-component', 'n_intervals')\n",
    ")\n",
    "\n",
    "def update_graph(n_intervals):\n",
    "    global cur_data\n",
    "    # Convert to DataFrame for Plotly\n",
    "    df = pd.DataFrame(cur_data, columns=['index','Timestamp', 'X', 'Y', 'Z'])\n",
    "    fig = px.line(df, x= 'Timestamp', y = ['X','Y','Z'])  # Scatter plot\n",
    "\n",
    "    return fig"
   ]
  },
  {
   "cell_type": "code",
   "execution_count": null,
   "id": "c0146409-eb7e-49fa-85c6-e5e807c00928",
   "metadata": {
    "scrolled": true
   },
   "outputs": [],
   "source": [
    "import sys\n",
    "import time\n",
    "import traceback\n",
    "import os\n",
    "from arduino_iot_cloud import ArduinoCloudClient\n",
    "import csv\n",
    "\n",
    "DEVICE_ID = \"d292d609-626a-4200-809c-fc67df5ab96a\"\n",
    "SECRET_KEY = \"mF0Fef8w14qNRB1tsB3YRPGtt\"\n",
    "\n",
    "# Define the variables to store the accelerometer data\n",
    "cur_data = []\n",
    "temp_data = []\n",
    "x, y, z = 0, 0, 0\n",
    "count = 0\n",
    "N_SAMPLES = 20\n",
    "\n",
    "# =============================================================================\n",
    "# Define the callback function for accelerometer_x changes\n",
    "def on_accelerometer_x_changed(client, value):\n",
    "    global x\n",
    "    x = value\n",
    "\n",
    "# Define the callback function for accelerometer_y changes\n",
    "def on_accelerometer_y_changed(client, value):\n",
    "    global y\n",
    "    y = value\n",
    "\n",
    "# Define the callback function for accelerometer_z changes\n",
    "def on_accelerometer_z_changed(client, value):\n",
    "    global z\n",
    "    z = value\n",
    "            \n",
    "#================================= MAIN FUNCTION =================================\n",
    "if __name__ == \"__main__\":\n",
    "    try:\n",
    "        # Instantiate Arduino cloud client\n",
    "        client = ArduinoCloudClient(device_id=DEVICE_ID, username=DEVICE_ID, password=SECRET_KEY, sync_mode = True)\n",
    "        \n",
    "        # Register the callback functions\n",
    "        client.register(\"py_x\", value=None, on_write=on_accelerometer_x_changed)\n",
    "        client.register(\"py_y\", value=None, on_write=on_accelerometer_y_changed)\n",
    "        client.register(\"py_z\", value=None, on_write=on_accelerometer_z_changed)\n",
    "\n",
    "        client.start()\n",
    "\n",
    "        # Keep the client running\n",
    "        while True:\n",
    "            if x is not None and y is not None and z is not None:\n",
    "                if count < N_SAMPLES:\n",
    "                    count += 1\n",
    "                    timestamp = time.strftime('%Y-%m-%d %H:%M:%S')\n",
    "                    temp_data.append([count,timestamp,x,y,z])\n",
    "                    print([count,timestamp,x,y,z])\n",
    "                    x, y, z = None, None, None\n",
    "                else:\n",
    "                    timestamp = time.strftime('%Y-%m-%d_%H-%M-%S')\n",
    "                    df = pd.DataFrame(temp_data, columns=['index','Timestamp', 'X', 'Y', 'Z'])\n",
    "                    df.to_csv(f\"csv_{timestamp}.csv\")\n",
    "                    fig = px.line(df, x= 'Timestamp', y = ['X','Y','Z'])  # Scatter plot\n",
    "                    filename = f\"images/plot_{timestamp}.png\"  # Correct filename format\n",
    "                    pio.write_image(fig, filename)\n",
    "                    count = 0\n",
    "                    cur_data = temp_data.copy()\n",
    "                    temp_data.clear()\n",
    "            client.update()\n",
    "    except:\n",
    "        exc_type, exc_value, exc_traceback = sys.exc_info()\n",
    "        traceback.print_tb(exc_type, file=print)"
   ]
  },
  {
   "cell_type": "code",
   "execution_count": null,
   "id": "cc1b1678-8650-4fbd-adb8-c39aa871d020",
   "metadata": {},
   "outputs": [],
   "source": [
    "app.run_server(debug_mode = True, jupyter_tab = True)"
   ]
  },
  {
   "cell_type": "code",
   "execution_count": null,
   "id": "0c922df3-5115-4e55-85a4-c7591a9928fd",
   "metadata": {},
   "outputs": [],
   "source": [
    "_df = pd.read_csv(\"csv_2024-08-31_01-47-29.csv\")\n",
    "_df.drop(columns ={\"Unnamed: 0\", \"index\"}, inplace = True)\n",
    "_df.Timestamp = pd.to_datetime(_df.Timestamp)\n",
    "_df.set_index(\"Timestamp\", inplace = True)"
   ]
  },
  {
   "cell_type": "code",
   "execution_count": null,
   "id": "42413148-0d36-4f93-9406-1d5f49de82f5",
   "metadata": {},
   "outputs": [],
   "source": [
    "act_1 = _df.between_time(\"01:15:40\", \"01:16:30\")\n",
    "act_2 = _df.between_time(\"01:16:50\", \"01:18:30\")\n",
    "act_3 = _df.between_time(\"01:21:10\", \"01:22:40\")\n",
    "act_4 = _df.between_time(\"01:24:45\", \"01:25:15\")\n",
    "act_5 = _df.between_time(\"01:30:00\", \"01:30:40\")"
   ]
  },
  {
   "cell_type": "code",
   "execution_count": null,
   "id": "f6dec28e-e91b-4a11-b63e-a096b81c6346",
   "metadata": {
    "scrolled": true
   },
   "outputs": [],
   "source": [
    "act_1.info()"
   ]
  },
  {
   "cell_type": "code",
   "execution_count": null,
   "id": "2fa988d3-1daf-458e-b232-b635d2a6f61d",
   "metadata": {},
   "outputs": [],
   "source": [
    "figsize = (16,9)\n",
    "sns.lineplot(x=_df.index, y=_df[\"X\"], label=\"X\")\n",
    "sns.lineplot(x=_df.index, y=_df[\"Y\"], label=\"Y\")\n",
    "sns.lineplot(x=_df.index, y=-df[\"Z\"], label=\"Z\")"
   ]
  },
  {
   "cell_type": "code",
   "execution_count": null,
   "id": "523e3a6c-47de-493c-a1b0-a9f560123e5a",
   "metadata": {},
   "outputs": [],
   "source": [
    "fig, ax = plt.subplots(5, figsize = (10,9))\n",
    "\n",
    "for i, data in enumerate([act_1,act_2,act_3,act_4,act_5]):\n",
    "    sns.lineplot(x=data.index, y=data[\"X\"], label=\"X\", ax = ax[i])\n",
    "    sns.lineplot(x=data.index, y=data[\"Y\"], label=\"Y\", ax = ax[i])\n",
    "    sns.lineplot(x=data.index, y=data[\"Z\"], label=\"Z\", ax = ax[i])\n",
    "    ax[i].legend()\n",
    "\n",
    "plt.tight_layout()\n",
    "plt.show()"
   ]
  },
  {
   "cell_type": "code",
   "execution_count": null,
   "id": "b8b3f050-8414-4b5d-a6c8-2842200759ef",
   "metadata": {},
   "outputs": [],
   "source": [
    "act_1.describe()"
   ]
  },
  {
   "cell_type": "code",
   "execution_count": null,
   "id": "5787de96-d4cd-448d-9c22-cc8a5f9c4406",
   "metadata": {},
   "outputs": [],
   "source": [
    "act_2.describe()"
   ]
  }
 ],
 "metadata": {
  "kernelspec": {
   "display_name": "VSCode",
   "language": "python",
   "name": "python3"
  },
  "language_info": {
   "codemirror_mode": {
    "name": "ipython",
    "version": 3
   },
   "file_extension": ".py",
   "mimetype": "text/x-python",
   "name": "python",
   "nbconvert_exporter": "python",
   "pygments_lexer": "ipython3",
   "version": "3.13.1"
  }
 },
 "nbformat": 4,
 "nbformat_minor": 5
}
